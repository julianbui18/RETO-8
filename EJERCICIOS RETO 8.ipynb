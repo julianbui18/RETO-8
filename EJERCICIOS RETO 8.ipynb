{
 "cells": [
  {
   "cell_type": "markdown",
   "id": "adf7eb5b",
   "metadata": {},
   "source": [
    "PUNTO 1"
   ]
  },
  {
   "cell_type": "markdown",
   "id": "16fac4d3",
   "metadata": {},
   "source": [
    "Ejercicio 1"
   ]
  },
  {
   "cell_type": "code",
   "execution_count": null,
   "id": "ce2c81de",
   "metadata": {},
   "outputs": [
    {
     "name": "stdout",
     "output_type": "stream",
     "text": [
      "La cantidad total de carne es: 75 kilos\n"
     ]
    }
   ],
   "source": [
    "n = int(input(\"Ingrese el número de gallinas: \"))\n",
    "m = int(input(\"Ingrese el número de gallos: \"))\n",
    "k = int(input(\"Ingrese el número de pollitos: \"))\n",
    "\n",
    "carne_total = (lambda gallinas, gallos, pollitos: (gallinas * 6) + (gallos * 7) + (pollitos * 1))(n, m, k)\n",
    "\n",
    "print(\"La cantidad total de carne es: \" + str(carne_total) + \" kilos\")"
   ]
  },
  {
   "cell_type": "markdown",
   "id": "27aca71f",
   "metadata": {},
   "source": [
    "Ejercicio 2"
   ]
  },
  {
   "cell_type": "code",
   "execution_count": 2,
   "id": "19c238bb",
   "metadata": {},
   "outputs": [
    {
     "name": "stdout",
     "output_type": "stream",
     "text": [
      "El valor total a pagar es: 2359296.0\n"
     ]
    }
   ],
   "source": [
    "P = float(input(\"Ingrese el capital prestado: \"))\n",
    "i = float(input(\"Ingrese la tasa de interés mensual: \"))\n",
    "n = int(input(\"Ingrese el número de meses: \"))\n",
    "\n",
    "C = (lambda capital, interes, meses: capital * (1 + interes) ** meses)(P, i, n)\n",
    "\n",
    "print(\"El valor total a pagar es: \" + str(C))"
   ]
  },
  {
   "cell_type": "markdown",
   "id": "44f09d11",
   "metadata": {},
   "source": [
    "Ejercicio 3"
   ]
  },
  {
   "cell_type": "code",
   "execution_count": 3,
   "id": "d786e688",
   "metadata": {},
   "outputs": [
    {
     "name": "stdout",
     "output_type": "stream",
     "text": [
      "El área de la figura es 564.9380098815465\n",
      "El perímetro de la figura es 143.09733552923257\n"
     ]
    }
   ],
   "source": [
    "import math  \n",
    "\n",
    "if __name__ == \"__main__\":\n",
    "    area_de_la_figura = lambda a, b, r: (a * b) + 2 * (math.pi * r ** 2)\n",
    "    perimetro_de_la_figura = lambda a, b, r: (2 * a + 2 * b) + 2 * (2 * math.pi * r)\n",
    "\n",
    "    a = float(input(\"Ingrese la altura del rectángulo: \"))\n",
    "    b = float(input(\"Ingrese la base del rectángulo: \"))\n",
    "    r = float(input(\"Ingrese el radio de los círculos: \"))\n",
    "\n",
    "    area = area_de_la_figura(a, b, r)\n",
    "    perimetro = perimetro_de_la_figura(a, b, r)\n",
    "    print(\"El área de la figura es \" + str(area))\n",
    "    print(\"El perímetro de la figura es \" + str(perimetro))"
   ]
  },
  {
   "cell_type": "markdown",
   "id": "9a1304ed",
   "metadata": {},
   "source": [
    "PUNTO 2"
   ]
  },
  {
   "cell_type": "markdown",
   "id": "f44dbfee",
   "metadata": {},
   "source": [
    "Ejercicio 1"
   ]
  },
  {
   "cell_type": "code",
   "execution_count": 4,
   "id": "0084d470",
   "metadata": {},
   "outputs": [
    {
     "name": "stdout",
     "output_type": "stream",
     "text": [
      "La cantidad total de carne es: 80 kilos\n"
     ]
    }
   ],
   "source": [
    "def calcular_carne(*args):\n",
    "    gallinas, gallos, pollitos = args\n",
    "    total = (gallinas * 6) + (gallos * 7) + (pollitos * 1)\n",
    "    return total\n",
    "\n",
    "n = int(input(\"Ingrese el número de gallinas: \"))\n",
    "m = int(input(\"Ingrese el número de gallos: \"))\n",
    "k = int(input(\"Ingrese el número de pollitos: \"))\n",
    "\n",
    "carne_total = calcular_carne(n, m, k)\n",
    "\n",
    "print(\"La cantidad total de carne es: \" + str(carne_total) + \" kilos\")"
   ]
  },
  {
   "cell_type": "markdown",
   "id": "54ca2388",
   "metadata": {},
   "source": [
    "Ejercicio 2"
   ]
  },
  {
   "cell_type": "code",
   "execution_count": 6,
   "id": "e8c3d66a",
   "metadata": {},
   "outputs": [
    {
     "name": "stdout",
     "output_type": "stream",
     "text": [
      "El valor total a pagar es: 2359296.0\n"
     ]
    }
   ],
   "source": [
    "def calcular_prestamo(*args):\n",
    "    capital, interes, meses = args\n",
    "    total = capital * (1 + interes) ** meses\n",
    "    return total\n",
    "\n",
    "P = float(input(\"Ingrese el capital prestado: \"))\n",
    "i = float(input(\"Ingrese la tasa de interés mensual: \"))\n",
    "n = int(input(\"Ingrese el número de meses: \"))\n",
    "\n",
    "C = calcular_prestamo(P, i, n)\n",
    "\n",
    "print(\"El valor total a pagar es: \" + str(C))"
   ]
  },
  {
   "cell_type": "markdown",
   "id": "601cf7b8",
   "metadata": {},
   "source": [
    "Ejercicio 3"
   ]
  },
  {
   "cell_type": "code",
   "execution_count": 7,
   "id": "18b07ed5",
   "metadata": {},
   "outputs": [
    {
     "name": "stdout",
     "output_type": "stream",
     "text": [
      "El área de la figura es 261.19467105846513\n",
      "El perímetro de la figura es 99.39822368615503\n"
     ]
    }
   ],
   "source": [
    "import math\n",
    "\n",
    "def area_de_la_figura(*args) -> float:\n",
    "    a, b, r = args\n",
    "    return (a * b) + 2 * (math.pi * r ** 2)\n",
    "\n",
    "def perimetro_de_la_figura(*args) -> float:\n",
    "    a, b, r = args\n",
    "    return (2 * a + 2 * b) + 2 * (2 * math.pi * r)\n",
    "\n",
    "if __name__ == \"__main__\":\n",
    "    a = float(input(\"Ingrese la altura del rectángulo: \"))\n",
    "    b = float(input(\"Ingrese la base del rectángulo: \"))\n",
    "    r = float(input(\"Ingrese el radio de los círculos: \"))\n",
    "\n",
    "    area = area_de_la_figura(a, b, r)\n",
    "    perimetro = perimetro_de_la_figura(a, b, r)\n",
    "    print(\"El área de la figura es \" + str(area))\n",
    "    print(\"El perímetro de la figura es \" + str(perimetro))"
   ]
  },
  {
   "cell_type": "markdown",
   "id": "c82fa562",
   "metadata": {},
   "source": [
    "PUNTO 3"
   ]
  },
  {
   "cell_type": "code",
   "execution_count": 8,
   "id": "c667d994",
   "metadata": {},
   "outputs": [
    {
     "name": "stdout",
     "output_type": "stream",
     "text": [
      "El resultado de 2.0 elevado a la 1 es 2.0\n"
     ]
    }
   ],
   "source": [
    "def potencia(base, exponente):\n",
    "    if exponente == 0:\n",
    "        return 1\n",
    "    else:\n",
    "        return base * potencia(base, exponente - 1)\n",
    "\n",
    "base = float(input(\"Ingrese la base: \"))\n",
    "exponente = int(input(\"Ingrese el exponente: \"))\n",
    "resultado = potencia(base, exponente)\n",
    "\n",
    "print(\"El resultado de \" + str(base) + \" elevado a la \" + str(exponente) + \" es \" + str(resultado))"
   ]
  },
  {
   "cell_type": "markdown",
   "id": "0d4512a3",
   "metadata": {},
   "source": [
    "PUNTO 4"
   ]
  },
  {
   "cell_type": "markdown",
   "id": "d94ec698",
   "metadata": {},
   "source": [
    "Recursiva"
   ]
  },
  {
   "cell_type": "code",
   "execution_count": 9,
   "id": "b71a1a64",
   "metadata": {},
   "outputs": [
    {
     "name": "stdout",
     "output_type": "stream",
     "text": [
      "El Fibonacci recursivo de 7 es 21\n",
      "El tiempo que se demoró el programa fue de: 3.3105430603027344 segundos\n"
     ]
    }
   ],
   "source": [
    "import time\n",
    "\n",
    "def fiboRecursivo(n: int) -> int:\n",
    "    if n <= 1:\n",
    "        return 1\n",
    "    else:\n",
    "        return fiboRecursivo(n - 1) + fiboRecursivo(n - 2)\n",
    "\n",
    "if __name__ == \"__main__\":\n",
    "    start_time = time.time()\n",
    "    num = int(input(\"Ingrese número para Fibonacci recursivo: \"))\n",
    "    resultado = fiboRecursivo(num)\n",
    "    print(\"El Fibonacci recursivo de \" + str(num) + \" es \" + str(resultado))\n",
    "    end_time = time.time()\n",
    "\n",
    "    timer = end_time - start_time\n",
    "    print(\"El tiempo que se demoró el programa fue de: \" + str(timer) + \" segundos\")"
   ]
  },
  {
   "cell_type": "markdown",
   "id": "e937f856",
   "metadata": {},
   "source": [
    "Iterativa"
   ]
  },
  {
   "cell_type": "code",
   "execution_count": 11,
   "id": "c09dfa63",
   "metadata": {},
   "outputs": [
    {
     "name": "stdout",
     "output_type": "stream",
     "text": [
      "El Fibonacci iterativo de 45 es 1134903170\n",
      "El tiempo que se demoró el programa fue de: 2.6024599075317383 segundos\n"
     ]
    }
   ],
   "source": [
    "import time\n",
    "\n",
    "def fiboIterativo(n: int) -> int:\n",
    "    if n <= 1:\n",
    "        return 1\n",
    "    else:\n",
    "        a = 1\n",
    "        b = 1\n",
    "        for _ in range(2, n + 1):\n",
    "            a, b = b, a + b\n",
    "        return a\n",
    "\n",
    "if __name__ == \"__main__\":\n",
    "    start_time = time.time()\n",
    "    num = int(input(\"Ingrese número para Fibonacci iterativo: \"))\n",
    "    resultado = fiboIterativo(num)\n",
    "    print(\"El Fibonacci iterativo de \" + str(num) + \" es \" + str(resultado))\n",
    "    end_time = time.time()\n",
    "\n",
    "    timer = end_time - start_time\n",
    "    print(\"El tiempo que se demoró el programa fue de: \" + str(timer) + \" segundos\")"
   ]
  }
 ],
 "metadata": {
  "kernelspec": {
   "display_name": "Python 3",
   "language": "python",
   "name": "python3"
  },
  "language_info": {
   "codemirror_mode": {
    "name": "ipython",
    "version": 3
   },
   "file_extension": ".py",
   "mimetype": "text/x-python",
   "name": "python",
   "nbconvert_exporter": "python",
   "pygments_lexer": "ipython3",
   "version": "3.10.11"
  }
 },
 "nbformat": 4,
 "nbformat_minor": 5
}
